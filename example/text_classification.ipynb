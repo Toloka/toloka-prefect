{
 "cells": [
  {
   "cell_type": "markdown",
   "id": "a334e397",
   "metadata": {},
   "source": [
    "# Text classification process using Toloka running at Prefect"
   ]
  },
  {
   "cell_type": "markdown",
   "id": "1c9e6652",
   "metadata": {},
   "source": [
    "Toloka offers a library of Prefect-integrated functions to facilitate crowdsourcing. This example illustrates how one can build the whole project using these blocks."
   ]
  },
  {
   "cell_type": "markdown",
   "id": "5c1ded23",
   "metadata": {},
   "source": [
    "This library provide Prefect tasks for Toloka. You can connect tasks by passing one task's result to another as argument.\n",
    "For more details see Prefect [docs](https://docs.prefect.io/core/concepts/flows.html#functional-api)."
   ]
  },
  {
   "cell_type": "markdown",
   "id": "0078e309",
   "metadata": {},
   "source": [
    "The resulting workflow can be run either locally or in the Prefect cloud. You can also deploy your own Prefect cluster if needed.\n",
    "We recomend to use Prefect cloud for this tutorial."
   ]
  },
  {
   "cell_type": "markdown",
   "id": "dd055cde",
   "metadata": {},
   "source": [
    "## Prefect environment setup"
   ]
  },
  {
   "cell_type": "markdown",
   "id": "31b3f70e",
   "metadata": {},
   "source": [
    "To use Prefect Cloud we'll need to login to (or set up an account for) Prefect Cloud at https://cloud.prefect.io. "
   ]
  },
  {
   "cell_type": "markdown",
   "id": "c33b6cf5",
   "metadata": {},
   "source": [
    "After logging in, the next step is to create an API key to access the cloud from your local machine."
   ]
  },
  {
   "cell_type": "markdown",
   "id": "53161800",
   "metadata": {},
   "source": [
    "To do this select at https://cloud.prefect.io/ portal `Team / Service accounts` and create new service account.\n",
    "<img src=\"https://raw.githubusercontent.com/vlad-mois/toloka-prefect/main/example/images/s01-team-service-accounts.png\" alt=\"Select service accounts page\" width=\"360\" align=\"center\">"
   ]
  },
  {
   "cell_type": "markdown",
   "id": "4806be04",
   "metadata": {},
   "source": [
    "Create new service account with \"Administrator\" role.\n",
    "\n",
    "<img src=\"https://raw.githubusercontent.com/vlad-mois/toloka-prefect/main/example/images/s02-new-service-account.png\" alt=\"Create new administrator service account\" width=\"360\" align=\"center\">"
   ]
  },
  {
   "cell_type": "markdown",
   "id": "5a3e17e9",
   "metadata": {},
   "source": [
    "Having a service account, you can create an API key. Create new key and copy it's value for further usage.\n",
    "\n",
    "<img src=\"https://raw.githubusercontent.com/vlad-mois/toloka-prefect/main/example/images/s03-new-api-key.png\" alt=\"Create new API key\" width=\"360\" align=\"center\">"
   ]
  },
  {
   "cell_type": "markdown",
   "id": "984e1b28",
   "metadata": {},
   "source": [
    "To start and monitor flow runs, you need a Prefect Agent. For this tutorial, you can create a Local Agent. You can find more agent types in prefect docs: https://docs.prefect.io/orchestration/agents/overview.html"
   ]
  },
  {
   "cell_type": "markdown",
   "id": "97f502b6",
   "metadata": {},
   "source": [
    "To run the local agent you only need the `prefect` Python package installed. Let's install it and other packages required for this tutorial:"
   ]
  },
  {
   "cell_type": "code",
   "execution_count": null,
   "id": "b38c5a08",
   "metadata": {},
   "outputs": [],
   "source": [
    "!pip install prefect pandas scikit-learn toloka-kit crowd-kit toloka-prefect"
   ]
  },
  {
   "cell_type": "markdown",
   "id": "d41dfb9e",
   "metadata": {},
   "source": [
    "Prefect package also install `prefect` binary. Make sure it is present:"
   ]
  },
  {
   "cell_type": "code",
   "execution_count": null,
   "id": "fdc4e1a5",
   "metadata": {},
   "outputs": [],
   "source": [
    "!prefect version  # Make sure this binary is installed."
   ]
  },
  {
   "cell_type": "markdown",
   "id": "b2a59258",
   "metadata": {},
   "source": [
    "Now open a new terminal to allow a Local Agent work in the background. And run the following.\n",
    "```\n",
    "# Run this in a new terminal window.\n",
    "prefect backend cloud\n",
    "prefect auth login --key <use-the-prefect-api-key-here>\n",
    "prefect agent local start  # Leave it running in the background...\n",
    "```"
   ]
  },
  {
   "cell_type": "markdown",
   "id": "76d137b0",
   "metadata": {},
   "source": [
    "## Store Toloka credentials"
   ]
  },
  {
   "cell_type": "markdown",
   "id": "ab20983d",
   "metadata": {},
   "source": [
    "To use Toloka from Prefect we should pass a Toloka OAuth token to it. If you do not have it yet, you can obtain it from your Toloka account at the `Profile / External Services Integration` page by clicking at `Get OAuth token`.\n",
    "<img src=\"https://raw.githubusercontent.com/vlad-mois/toloka-prefect/main/example/images/s04-toloka-secret.png\" alt=\"Obtain Toloka OAuth key\" width=\"720\" align=\"center\">"
   ]
  },
  {
   "cell_type": "markdown",
   "id": "86820440",
   "metadata": {},
   "source": [
    "You can store it in Prefect as a secret.\n",
    "\n",
    "<img src=\"https://raw.githubusercontent.com/vlad-mois/toloka-prefect/main/example/images/s05-secrets.png\" alt=\"Open Prefect secrets page\" width=\"360\" align=\"center\">"
   ]
  },
  {
   "cell_type": "markdown",
   "id": "739973fc",
   "metadata": {},
   "source": [
    "Add it as a new secret at `Team / Secrets` page to use from workflow by it's name.\n",
    "\n",
    "<img src=\"https://raw.githubusercontent.com/vlad-mois/toloka-prefect/main/example/images/s06-add-new-secret.png\" alt=\"Add Toloka OAuth token as Prefect secret\" width=\"360\" align=\"center\">"
   ]
  },
  {
   "cell_type": "markdown",
   "id": "2c911dd6",
   "metadata": {},
   "source": [
    "## Text classification project"
   ]
  },
  {
   "cell_type": "markdown",
   "id": "013f1a2b",
   "metadata": {},
   "source": [
    "### Create Prefect project"
   ]
  },
  {
   "cell_type": "markdown",
   "id": "1f2a7eeb",
   "metadata": {},
   "source": [
    "Prefect hierarchy contains the following entities:\n",
    "* **Project** is a top-level entity to group flows.\n",
    "* **Flow** shares default DAG topology, parameters and scheduling settings across multiple runs.\n",
    "* **Flow version**. You may update the same flow several times. Each version is being saved.\n",
    "* **Run** represent exact run of the flow: it's progress and result.\n",
    "\n",
    "You may create a new Prefect project either in the UI, Prefect CLI or with the `prefect.Client`.\n",
    "For more details see Prefect docs: https://docs.prefect.io/orchestration/concepts/projects.html"
   ]
  },
  {
   "cell_type": "code",
   "execution_count": null,
   "id": "f3feab3b",
   "metadata": {},
   "outputs": [],
   "source": [
    "from prefect import Client\n",
    "\n",
    "client = Client()\n",
    "client.create_project(project_name='Toloka text classification')"
   ]
  },
  {
   "cell_type": "markdown",
   "id": "d353bc39",
   "metadata": {},
   "source": [
    "### Take a look at data"
   ]
  },
  {
   "cell_type": "markdown",
   "id": "76a6d3a3",
   "metadata": {},
   "source": [
    "In this example we got a bunch of news headlines. We will try to determine which of them are clickbait and which are not.\n",
    "\n",
    "We use dataset from \"SVM clickbait classifier\", distributed under a MIT license.\n",
    "[![License: MIT](https://img.shields.io/badge/License-MIT-yellow.svg)](https://opensource.org/licenses/MIT)\n",
    "\n",
    "> Abhijnan Chakraborty, Bhargavi Paranjape, Sourya Kakarla, and Niloy Ganguly. \"Stop Clickbait: Detecting and Preventing Clickbaits in Online News Media”. In Proceedings of the 2016 IEEE/ACM International Conference on Advances in Social Networks Analysis and Mining (ASONAM), San Fransisco, US, August 2016.\n",
    "\n",
    "\n",
    "Let's load the dataset and look at it's structure."
   ]
  },
  {
   "cell_type": "code",
   "execution_count": null,
   "id": "3a36b8bb",
   "metadata": {},
   "outputs": [],
   "source": [
    "import pandas as pd\n",
    "\n",
    "df_labeled = pd.read_csv(\n",
    "    'https://raw.githubusercontent.com/vlad-mois/toloka-prefect/main/example/data/known.csv'\n",
    ")\n",
    "df_unlabeled = pd.read_csv(\n",
    "    'https://raw.githubusercontent.com/vlad-mois/toloka-prefect/main/example/data/not_known.csv'\n",
    ")"
   ]
  },
  {
   "cell_type": "code",
   "execution_count": null,
   "id": "f6e024b1",
   "metadata": {},
   "outputs": [],
   "source": [
    "df_labeled"
   ]
  },
  {
   "cell_type": "code",
   "execution_count": null,
   "id": "a604c1a6",
   "metadata": {},
   "outputs": [],
   "source": [
    "df_unlabeled"
   ]
  },
  {
   "cell_type": "markdown",
   "id": "550c12a9",
   "metadata": {},
   "source": [
    "Since we have a bunch of labeled data, we will use it to create an **exam** and **honeypots** (kind of trapping questions to filter untrustworthy workers).\n",
    "\n",
    "We are not going to label all 30000 headlines here. For example purposes we will take only 100 of them."
   ]
  },
  {
   "cell_type": "markdown",
   "id": "f0b1e9b3",
   "metadata": {},
   "source": [
    "### Prefect tasks description"
   ]
  },
  {
   "cell_type": "markdown",
   "id": "5aa40a3e",
   "metadata": {},
   "source": [
    "The workflow consists of tasks representing a unit of work. Each task is performed independently (and possibly on a separate machine). \n",
    "\n",
    "The only way to connect them is to pass output from one task to another as an argument.\n",
    "\n",
    "For more details see Prefect docs: https://docs.prefect.io/api/latest/core/task.html\n",
    "\n",
    "Let's start from the task that load and transform initial dataset."
   ]
  },
  {
   "cell_type": "code",
   "execution_count": null,
   "id": "0fac9717",
   "metadata": {},
   "outputs": [],
   "source": [
    "import pandas as pd\n",
    "from prefect import task\n",
    "from sklearn.model_selection import train_test_split\n",
    "from typing import Tuple\n",
    "\n",
    "@task\n",
    "def prepare_datasets(\n",
    "    unlabeled_url: str,\n",
    "    labeled_url: str,\n",
    ") -> Tuple[pd.DataFrame, pd.DataFrame, pd.DataFrame]:\n",
    "\n",
    "    df_labeled = pd.read_csv(labeled_url)\n",
    "    df_labeled, df_exam = train_test_split(df_labeled, test_size=10, stratify=df_labeled.category)\n",
    "    _, df_honeypots = train_test_split(df_labeled, test_size=20, stratify=df_labeled.category)\n",
    "\n",
    "    df_main = pd.read_csv(unlabeled_url).sample(n=100)\n",
    "\n",
    "    return {'main': df_main, 'exam': df_exam, 'honeypots': df_honeypots}"
   ]
  },
  {
   "cell_type": "markdown",
   "id": "5e36e5f4",
   "metadata": {},
   "source": [
    "We are going to create Toloka tasks based on this data."
   ]
  },
  {
   "cell_type": "code",
   "execution_count": null,
   "id": "87b7e731",
   "metadata": {},
   "outputs": [],
   "source": [
    "from typing import List\n",
    "from toloka.client import Task  # This is the Toloka `Task` object, not a Prefect one.\n",
    "\n",
    "@task\n",
    "def prepare_tasks(df_main: pd.DataFrame) -> List[Task]:\n",
    "    return [Task(input_values={'headline': headline})\n",
    "            for headline in df_main['headline']]\n",
    "\n",
    "@task\n",
    "def prepare_exam_tasks(df_exam: pd.DataFrame) -> List[Task]:\n",
    "    return [Task(input_values={'headline': row.headline},\n",
    "                 known_solutions=[{'output_values': {'category': row.category}}],\n",
    "                 message_on_unknown_solution=row.category)\n",
    "            for row in df_exam.itertuples(index=False)]\n",
    "\n",
    "@task\n",
    "def prepare_honeypots(df_honeypots: pd.DataFrame) -> List[Task]:\n",
    "    return [Task(input_values={'headline': row.headline},\n",
    "                 known_solutions=[{'output_values': {'category': row.category}}])\n",
    "            for row in df_honeypots.itertuples(index=False)]"
   ]
  },
  {
   "cell_type": "markdown",
   "id": "d207b0cb",
   "metadata": {},
   "source": [
    "We have set _Toloka tasks'_ interface as well as other settings in a separate _Toloka project_ and _Toloka pool_ configs.\n",
    "\n",
    "You may find it here:\n",
    "* Toloka project config: https://github.com/vlad-mois/toloka-prefect/blob/main/example/configs/project.json\n",
    "* Toloka pool config: https://github.com/vlad-mois/toloka-prefect/blob/main/example/configs/pool.json\n",
    "* Exam config: https://github.com/vlad-mois/toloka-prefect/blob/main/example/configs/exam.json\n",
    "\n",
    "We will load and use them later in separate Prefect tasks."
   ]
  },
  {
   "cell_type": "markdown",
   "id": "41cfe756",
   "metadata": {},
   "source": [
    "Now we have to take care of another stage of our process: results aggregation.\n",
    "We use _overlap_, so we will receive several assignments for each headline.\n",
    "Let's use _DavidSkeene_ method from **crowd-kit**."
   ]
  },
  {
   "cell_type": "markdown",
   "id": "f0cc0b59",
   "metadata": {},
   "source": [
    "Since this is the final task in our graph, we are going to store it's result. There are different ways to do it (add task, that put it to S3, for example). For simplicity, we save it locally using `LocalResult` object. Our dataframe will be saved in the pickle format. For other options see Prefect docs: https://docs.prefect.io/core/concepts/results.html\n",
    "\n",
    "For AWS S3 tasks see docs: https://docs.prefect.io/api/latest/tasks/aws.html"
   ]
  },
  {
   "cell_type": "code",
   "execution_count": null,
   "id": "c2f6b3be",
   "metadata": {},
   "outputs": [],
   "source": [
    "from crowdkit.aggregation import DawidSkene\n",
    "from prefect.engine.results import LocalResult\n",
    "\n",
    "@task(result=LocalResult(dir='~/Documents/prefect-results/',\n",
    "                         location='{flow_name}-{date:%Y-%m-%d-%H-%M-%S}.pickle'))\n",
    "def aggregate_assignments(assignments: pd.DataFrame) -> pd.DataFrame:\n",
    "    assignments = assignments[assignments['GOLDEN:category'].isna()]  # Ignore honeypots.\n",
    "    assignments = assignments.rename(columns={'INPUT:headline': 'task',\n",
    "                                              'OUTPUT:category': 'label',\n",
    "                                              'ASSIGNMENT:worker_id': 'performer'})\n",
    "    df = DawidSkene(n_iter=20).fit_predict(assignments).to_frame().reset_index()\n",
    "    df.columns = ['headline', 'category']\n",
    "    return df"
   ]
  },
  {
   "cell_type": "markdown",
   "id": "1d99e65a",
   "metadata": {},
   "source": [
    "The above tasks are all that we have to describe manually. We'll take the rest from the **toloka-prefect** library."
   ]
  },
  {
   "cell_type": "markdown",
   "id": "9ed05613",
   "metadata": {},
   "source": [
    "Let's build a DAG. Note, that tasks outputs are not a regular Python value, but a `prefect.Task` instances instead."
   ]
  },
  {
   "cell_type": "code",
   "execution_count": null,
   "id": "8c09c922",
   "metadata": {},
   "outputs": [],
   "source": [
    "from datetime import timedelta\n",
    "from prefect import Flow\n",
    "\n",
    "import toloka_prefect.operations as tlk\n",
    "from toloka_prefect.helpers import download_json\n",
    "\n",
    "with Flow('text-classification') as flow:\n",
    "    project_conf = download_json('https://raw.githubusercontent.com/Toloka/toloka-prefect/main/example/configs/project.json')\n",
    "    exam_conf = download_json('https://raw.githubusercontent.com/Toloka/toloka-prefect/main/example/configs/exam.json')\n",
    "    pool_conf = download_json('https://raw.githubusercontent.com/Toloka/toloka-prefect/main/example/configs/pool.json')\n",
    "\n",
    "    project = tlk.create_project(project_conf)\n",
    "    exam = tlk.create_exam_pool(exam_conf, project_id=project)\n",
    "    pool = tlk.create_pool(pool_conf, project_id=project, exam_pool_id=exam, expiration=timedelta(days=1))\n",
    "\n",
    "    datasets = prepare_datasets(\n",
    "        unlabeled_url='https://raw.githubusercontent.com/Toloka/toloka-prefect/main/example/data/not_known.csv',\n",
    "        labeled_url='https://raw.githubusercontent.com/Toloka/toloka-prefect/main/example/data/known.csv',\n",
    "    )\n",
    "    tasks = prepare_tasks(datasets['main'])\n",
    "    exam_tasks = prepare_exam_tasks(datasets['exam'])\n",
    "    honeypots = prepare_honeypots(datasets['honeypots'])\n",
    "\n",
    "    _exam_upload = tlk.create_tasks(exam_tasks, pool_id=exam, open_pool=True, allow_defaults=True)\n",
    "    _hp_upload = tlk.create_tasks(honeypots, pool_id=pool, allow_defaults=True)\n",
    "    _tasks_upload = tlk.create_tasks(tasks, pool_id=pool, allow_defaults=True)\n",
    "\n",
    "    _waiting = tlk.wait_pool(pool, open_pool=True, upstream_tasks=[_exam_upload, _hp_upload, _tasks_upload])\n",
    "    assignments = tlk.get_assignments_df(pool, upstream_tasks=[_waiting])\n",
    "\n",
    "    result = aggregate_assignments(assignments)\n",
    "\n",
    "flow.register(project_name='Toloka text classification')"
   ]
  },
  {
   "cell_type": "markdown",
   "id": "00cc3e40",
   "metadata": {},
   "source": [
    "After a flow registration you may follow a given link and configure a flow runs. "
   ]
  },
  {
   "cell_type": "markdown",
   "id": "435d6782",
   "metadata": {},
   "source": [
    "To make a single run you may click at `Quick run`.\n",
    "\n",
    "<img src=\"https://raw.githubusercontent.com/vlad-mois/toloka-prefect/main/example/images/s07-quick-run.png\" alt=\"Click at quick run\" width=\"720\" align=\"center\">\n",
    "\n",
    "After starting the workflow, you can see it's progress at `Overview` tab.\n",
    "\n",
    "<img src=\"https://raw.githubusercontent.com/vlad-mois/toloka-prefect/main/example/images/s08-progress.png\" alt=\"Flow run progress\" width=\"720\" align=\"center\">\n",
    "\n",
    "The resulting graph can be viewed at `Schematic` tab.\n",
    "\n",
    "<img src=\"https://raw.githubusercontent.com/vlad-mois/toloka-prefect/main/example/images/s09-dag.png\" alt=\"Flow run progress\" width=\"720\" align=\"center\">"
   ]
  },
  {
   "cell_type": "markdown",
   "id": "a8f94c95",
   "metadata": {},
   "source": [
    "### Obtaining the results"
   ]
  },
  {
   "cell_type": "markdown",
   "id": "6ab1052d",
   "metadata": {},
   "source": [
    "When our flow run is completed, we will be able to find the `aggregate_assignments` result in the previously specified directory (the one we passed to the `LocalResult` object)."
   ]
  },
  {
   "cell_type": "markdown",
   "id": "36b77dba",
   "metadata": {},
   "source": [
    "Or one can find it's exact path from the `aggregate_assignments` task run page.\n",
    "\n",
    "<img src=\"https://raw.githubusercontent.com/vlad-mois/toloka-prefect/main/example/images/s10-task-run-result-path-crop.png\" alt=\"Find LocalResult path at the Task Run page\" width=\"720\" align=\"center\">"
   ]
  },
  {
   "cell_type": "markdown",
   "id": "9b0cce06",
   "metadata": {},
   "source": [
    "Let's get the dataframe saved at this path."
   ]
  },
  {
   "cell_type": "code",
   "execution_count": null,
   "id": "189bd779",
   "metadata": {},
   "outputs": [],
   "source": [
    "import pickle\n",
    "\n",
    "# Change to your path.\n",
    "with open('/Users/some-user/Documents/prefect-results/text-classification-2021-12-10-00-14-29.pickle', 'rb') as file:\n",
    "    res = pickle.load(file)\n",
    "\n",
    "res"
   ]
  },
  {
   "cell_type": "markdown",
   "id": "98c4541f",
   "metadata": {},
   "source": [
    "## What's next?"
   ]
  },
  {
   "cell_type": "markdown",
   "id": "e89ad15e",
   "metadata": {},
   "source": [
    "It was just an example of creating a workflow on Prefect with Toloka. Further it can be expanded in the following directions:\n",
    "* You can supply your input data from [PostgreSQL](https://docs.prefect.io/api/latest/tasks/postgres.html), [Kafka](https://docs.prefect.io/api/latest/tasks/kafka.html), [S3](https://docs.prefect.io/api/latest/tasks/aws.html) and other sources. There are a ready-made collection of these tasks in Prefect. The same is for output data.\n",
    "* You can schedule your flow runs in the `Flow / Settings / Schedulers` tab.\n",
    "* You can add notifications to be sent to Slack, email, or any other endpoint when your flow enters a given state at the `Flow / Settings / Cloud hooks` tab.\n",
    "* Run Prefect agents in a cloud or deploy a whole Prefect Core in your cluster. For other Prefect Agent types (not only the Local one) see docs: \n",
    "* And, of course, you can build much more advanced process with crowdsourcing using Toloka."
   ]
  }
 ],
 "metadata": {
  "kernelspec": {
   "display_name": "Python 3 (ipykernel)",
   "language": "python",
   "name": "python3"
  },
  "language_info": {
   "codemirror_mode": {
    "name": "ipython",
    "version": 3
   },
   "file_extension": ".py",
   "mimetype": "text/x-python",
   "name": "python",
   "nbconvert_exporter": "python",
   "pygments_lexer": "ipython3",
   "version": "3.9.7"
  }
 },
 "nbformat": 4,
 "nbformat_minor": 5
}
